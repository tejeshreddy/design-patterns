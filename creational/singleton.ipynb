{
 "cells": [
  {
   "cell_type": "markdown",
   "id": "0e679374",
   "metadata": {},
   "source": [
    "- The singleton pattern is a design pattern that restricts the instantiation of a class to one object. \n",
    "- The singleton pattern is one of the simplest design patterns. Sometimes we need to have only one instance of our class for example a single DB connection shared by multiple objects as creating a separate DB connection for every object may be costly. \n"
   ]
  },
  {
   "cell_type": "code",
   "execution_count": 3,
   "id": "56b5331e",
   "metadata": {},
   "outputs": [
    {
     "name": "stdout",
     "output_type": "stream",
     "text": [
      "Done\n"
     ]
    }
   ],
   "source": [
    "class Singleton(type):\n",
    "    \"\"\"\n",
    "    Define an Instance operation that lets clients access its unique\n",
    "    instance.\n",
    "    \"\"\"\n",
    "\n",
    "    def __init__(cls, name, bases, attrs, **kwargs):\n",
    "        super().__init__(name, bases, attrs)\n",
    "        cls._instance = None\n",
    "\n",
    "    def __call__(cls, *args, **kwargs):\n",
    "        if cls._instance is None:\n",
    "            cls._instance = super().__call__(*args, **kwargs)\n",
    "        return cls._instance\n",
    "\n",
    "\n",
    "class MyClass(metaclass=Singleton):\n",
    "    \"\"\"\n",
    "    Example class.\n",
    "    \"\"\"\n",
    "\n",
    "    pass\n",
    "\n",
    "\n",
    "def main():\n",
    "    m1 = MyClass()\n",
    "    m2 = MyClass()\n",
    "    assert m1 is m2\n",
    "\n",
    "\n",
    "if __name__ == \"__main__\":\n",
    "    main()"
   ]
  },
  {
   "cell_type": "code",
   "execution_count": null,
   "id": "3dfeb0d6",
   "metadata": {},
   "outputs": [],
   "source": []
  }
 ],
 "metadata": {
  "kernelspec": {
   "display_name": "Python 3",
   "language": "python",
   "name": "python3"
  },
  "language_info": {
   "codemirror_mode": {
    "name": "ipython",
    "version": 3
   },
   "file_extension": ".py",
   "mimetype": "text/x-python",
   "name": "python",
   "nbconvert_exporter": "python",
   "pygments_lexer": "ipython3",
   "version": "3.8.8"
  }
 },
 "nbformat": 4,
 "nbformat_minor": 5
}
