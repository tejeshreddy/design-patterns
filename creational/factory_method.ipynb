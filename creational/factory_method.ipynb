{
 "cells": [
  {
   "cell_type": "markdown",
   "id": "001293f3",
   "metadata": {},
   "source": [
    "# Factory Method\n",
    "\n",
    "\n",
    "\n",
    "- Factory Method is a Creational Design Pattern that allows an interface or a class to create an object, but lets subclasses decide which class or object to instantiate.\n",
    "- Using the Factory method, we have the best ways to create an object.\n",
    "- Here, objects are created without exposing the logic to the client, and for creating the new type of object, the client uses the same common interface."
   ]
  },
  {
   "cell_type": "markdown",
   "id": "440750d0",
   "metadata": {},
   "source": [
    "## Code Example"
   ]
  },
  {
   "cell_type": "code",
   "execution_count": null,
   "id": "8c2b4f39",
   "metadata": {},
   "outputs": [],
   "source": [
    "class FrenchLocalizer:\n",
    "    def __init__(self):\n",
    "        self.translations = {\"Hi\": \"aaa\", \"Hello\": \"bbb\", \"What are the weather conditions like?\": \"ddd vvv bbb\"}\n",
    "    \n",
    "    def localize(self, message):\n",
    "        \"\"\"This will be responsible to translate the contents of french\"\"\"\n",
    "        if message in self.translations:\n",
    "            return self.translations[message]\n",
    "\n",
    "class SpanishLocalizer:\n",
    "    def __init__(self):\n",
    "        self.translations = {\"Hi\": \"aaa\", \"Hello\": \"bbb\", \"What are the weather conditions like?\": \"ddd vvv bbb\"}\n",
    "    \n",
    "    def localize(self, message):\n",
    "        \"\"\"This will be responsible to translate the contents of spanish\"\"\"\n",
    "        pass\n",
    "\n",
    "class EnglishLocalizer:\n",
    "    def __init__(self):\n",
    "        self.translations = {\"Hi\": \"aaa\", \"Hello\": \"bbb\", \"What are the weather conditions like?\": \"ddd vvv bbb\"}\n",
    "    \n",
    "    def localize(self, message):\n",
    "        \"\"\"This will be responsible to translate the contents of english\"\"\"\n",
    "        pass\n",
    "\n",
    "if __name__ == \"__main__\":\n",
    "    french = FrenchLocalizer()\n",
    "    spanish = SpanishLocalizer()\n",
    "    english = EnglishLocalizer()\n",
    "    \n",
    "    messages = [\"Hi\", \"Hello\", \"What are the weather conditions like?\"]\n",
    "    \n",
    "    for message in messages:\n",
    "        print(french.localize(message))\n",
    "        print(spanish.localize(message))\n",
    "        print(english.localize(message))"
   ]
  },
  {
   "cell_type": "markdown",
   "id": "a1762940",
   "metadata": {},
   "source": [
    "## Resources\n",
    "\n",
    "- https://www.geeksforgeeks.org/factory-method-python-design-patterns/\n",
    "- https://sourcemaking.com/design_patterns/factory_method"
   ]
  },
  {
   "cell_type": "code",
   "execution_count": null,
   "id": "14fc7d90",
   "metadata": {},
   "outputs": [],
   "source": []
  }
 ],
 "metadata": {
  "kernelspec": {
   "display_name": "Python 3",
   "language": "python",
   "name": "python3"
  },
  "language_info": {
   "codemirror_mode": {
    "name": "ipython",
    "version": 3
   },
   "file_extension": ".py",
   "mimetype": "text/x-python",
   "name": "python",
   "nbconvert_exporter": "python",
   "pygments_lexer": "ipython3",
   "version": "3.8.8"
  }
 },
 "nbformat": 4,
 "nbformat_minor": 5
}
