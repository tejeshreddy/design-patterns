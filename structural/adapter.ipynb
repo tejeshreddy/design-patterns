{
 "cells": [
  {
   "cell_type": "markdown",
   "id": "b107147c",
   "metadata": {},
   "source": [
    "- Adapter is a structural design pattern that allows objects with incompatible interfaces to collaborate.\n",
    "- You can create an adapter. This is a special object that converts the interface of one object so that another object can understand it."
   ]
  },
  {
   "cell_type": "code",
   "execution_count": 1,
   "id": "9e3ba42b",
   "metadata": {},
   "outputs": [],
   "source": [
    "import abc\n",
    "\n",
    "\n",
    "class Target(metaclass=abc.ABCMeta):\n",
    "    \"\"\"\n",
    "    Define the domain-specific interface that Client uses.\n",
    "    \"\"\"\n",
    "\n",
    "    def __init__(self):\n",
    "        self._adaptee = Adaptee()\n",
    "\n",
    "    @abc.abstractmethod\n",
    "    def request(self):\n",
    "        pass\n",
    "\n",
    "\n",
    "class Adapter(Target):\n",
    "    \"\"\"\n",
    "    Adapt the interface of Adaptee to the Target interface.\n",
    "    \"\"\"\n",
    "\n",
    "    def request(self):\n",
    "        self._adaptee.specific_request()\n",
    "\n",
    "\n",
    "class Adaptee:\n",
    "    \"\"\"\n",
    "    Define an existing interface that needs adapting.\n",
    "    \"\"\"\n",
    "\n",
    "    def specific_request(self):\n",
    "        pass\n",
    "\n",
    "\n",
    "def main():\n",
    "    adapter = Adapter()\n",
    "    adapter.request()\n",
    "\n",
    "\n",
    "if __name__ == \"__main__\":\n",
    "    main()\n"
   ]
  },
  {
   "cell_type": "code",
   "execution_count": null,
   "id": "fa66d93a",
   "metadata": {},
   "outputs": [],
   "source": []
  }
 ],
 "metadata": {
  "kernelspec": {
   "display_name": "Python 3",
   "language": "python",
   "name": "python3"
  },
  "language_info": {
   "codemirror_mode": {
    "name": "ipython",
    "version": 3
   },
   "file_extension": ".py",
   "mimetype": "text/x-python",
   "name": "python",
   "nbconvert_exporter": "python",
   "pygments_lexer": "ipython3",
   "version": "3.8.8"
  }
 },
 "nbformat": 4,
 "nbformat_minor": 5
}
