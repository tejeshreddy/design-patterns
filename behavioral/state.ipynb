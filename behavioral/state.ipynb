{
 "cells": [
  {
   "cell_type": "markdown",
   "id": "cc94506d",
   "metadata": {},
   "source": [
    "- State is a behavioral design pattern that lets an object alter its behavior when its internal state changes. It appears as if the object changed its class."
   ]
  },
  {
   "cell_type": "code",
   "execution_count": 1,
   "id": "c21b05f5",
   "metadata": {},
   "outputs": [],
   "source": [
    "\"\"\"\n",
    "Allow an object to alter its behavior when its internal state changes.\n",
    "The object will appear to change its class.\n",
    "\"\"\"\n",
    "\n",
    "import abc\n",
    "\n",
    "\n",
    "class Context:\n",
    "    \"\"\"\n",
    "    Define the interface of interest to clients.\n",
    "    Maintain an instance of a ConcreteState subclass that defines the\n",
    "    current state.\n",
    "    \"\"\"\n",
    "\n",
    "    def __init__(self, state):\n",
    "        self._state = state\n",
    "\n",
    "    def request(self):\n",
    "        self._state.handle()\n",
    "\n",
    "\n",
    "class State(metaclass=abc.ABCMeta):\n",
    "    \"\"\"\n",
    "    Define an interface for encapsulating the behavior associated with a\n",
    "    particular state of the Context.\n",
    "    \"\"\"\n",
    "\n",
    "    @abc.abstractmethod\n",
    "    def handle(self):\n",
    "        pass\n",
    "\n",
    "\n",
    "class ConcreteStateA(State):\n",
    "    \"\"\"\n",
    "    Implement a behavior associated with a state of the Context.\n",
    "    \"\"\"\n",
    "\n",
    "    def handle(self):\n",
    "        pass\n",
    "\n",
    "\n",
    "class ConcreteStateB(State):\n",
    "    \"\"\"\n",
    "    Implement a behavior associated with a state of the Context.\n",
    "    \"\"\"\n",
    "\n",
    "    def handle(self):\n",
    "        pass\n",
    "\n",
    "\n",
    "def main():\n",
    "    concrete_state_a = ConcreteStateA()\n",
    "    context = Context(concrete_state_a)\n",
    "    context.request()\n",
    "\n",
    "\n",
    "if __name__ == \"__main__\":\n",
    "    main()"
   ]
  },
  {
   "cell_type": "code",
   "execution_count": null,
   "id": "31ed13b6",
   "metadata": {},
   "outputs": [],
   "source": []
  }
 ],
 "metadata": {
  "kernelspec": {
   "display_name": "Python 3",
   "language": "python",
   "name": "python3"
  },
  "language_info": {
   "codemirror_mode": {
    "name": "ipython",
    "version": 3
   },
   "file_extension": ".py",
   "mimetype": "text/x-python",
   "name": "python",
   "nbconvert_exporter": "python",
   "pygments_lexer": "ipython3",
   "version": "3.8.8"
  }
 },
 "nbformat": 4,
 "nbformat_minor": 5
}
