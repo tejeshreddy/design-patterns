{
 "cells": [
  {
   "cell_type": "markdown",
   "id": "f406d393",
   "metadata": {},
   "source": [
    "- Strategy is a behavioral design pattern that lets you define a family of algorithms, put each of them into a separate class, and make their objects interchangeable.\n",
    "- The Strategy pattern suggests that you take a class that does something specific in a lot of different ways and extract all of these algorithms into separate classes called strategies.\n"
   ]
  },
  {
   "cell_type": "code",
   "execution_count": 1,
   "id": "3e9bdb79",
   "metadata": {},
   "outputs": [],
   "source": [
    "\"\"\"\n",
    "Define a family of algorithms, encapsulate each one, and make them\n",
    "interchangeable. Strategy lets the algorithm vary independently from\n",
    "clients that use it.\n",
    "\"\"\"\n",
    "\n",
    "import abc\n",
    "\n",
    "\n",
    "class Context:\n",
    "    \"\"\"\n",
    "    Define the interface of interest to clients.\n",
    "    Maintain a reference to a Strategy object.\n",
    "    \"\"\"\n",
    "\n",
    "    def __init__(self, strategy):\n",
    "        self._strategy = strategy\n",
    "\n",
    "    def context_interface(self):\n",
    "        self._strategy.algorithm_interface()\n",
    "\n",
    "\n",
    "class Strategy(metaclass=abc.ABCMeta):\n",
    "    \"\"\"\n",
    "    Declare an interface common to all supported algorithms. Context\n",
    "    uses this interface to call the algorithm defined by a\n",
    "    ConcreteStrategy.\n",
    "    \"\"\"\n",
    "\n",
    "    @abc.abstractmethod\n",
    "    def algorithm_interface(self):\n",
    "        pass\n",
    "\n",
    "\n",
    "class ConcreteStrategyA(Strategy):\n",
    "    \"\"\"\n",
    "    Implement the algorithm using the Strategy interface.\n",
    "    \"\"\"\n",
    "\n",
    "    def algorithm_interface(self):\n",
    "        pass\n",
    "\n",
    "\n",
    "class ConcreteStrategyB(Strategy):\n",
    "    \"\"\"\n",
    "    Implement the algorithm using the Strategy interface.\n",
    "    \"\"\"\n",
    "\n",
    "    def algorithm_interface(self):\n",
    "        pass\n",
    "\n",
    "\n",
    "def main():\n",
    "    concrete_strategy_a = ConcreteStrategyA()\n",
    "    context = Context(concrete_strategy_a)\n",
    "    context.context_interface()\n",
    "\n",
    "\n",
    "if __name__ == \"__main__\":\n",
    "    main()"
   ]
  },
  {
   "cell_type": "code",
   "execution_count": null,
   "id": "e3efd0a8",
   "metadata": {},
   "outputs": [],
   "source": []
  }
 ],
 "metadata": {
  "kernelspec": {
   "display_name": "Python 3",
   "language": "python",
   "name": "python3"
  },
  "language_info": {
   "codemirror_mode": {
    "name": "ipython",
    "version": 3
   },
   "file_extension": ".py",
   "mimetype": "text/x-python",
   "name": "python",
   "nbconvert_exporter": "python",
   "pygments_lexer": "ipython3",
   "version": "3.8.8"
  }
 },
 "nbformat": 4,
 "nbformat_minor": 5
}
